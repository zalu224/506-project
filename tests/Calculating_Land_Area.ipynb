{
 "cells": [
  {
   "cell_type": "code",
   "execution_count": 51,
   "metadata": {},
   "outputs": [
    {
     "name": "stdout",
     "output_type": "stream",
     "text": [
      "Error fetching land area for ZIP code 10048: 'NoneType' object has no attribute 'find_next_sibling'\n",
      "Error fetching population for ZIP code 10048: 'NoneType' object has no attribute 'find_next_sibling'\n",
      "Error fetching population for ZIP code 11359: 'NoneType' object has no attribute 'find_next_sibling'\n"
     ]
    }
   ],
   "source": [
    "# write code to scrape the land area data from a website\n",
    "import requests\n",
    "from bs4 import BeautifulSoup\n",
    "import re\n",
    "import time\n",
    "import random\n",
    "\n",
    "def get_land_area(zip_code: str) -> float:\n",
    "    \"\"\"Get the land area for a given ZIP code.\n",
    "    \n",
    "    Args:\n",
    "        zip_code: ZIP code to lookup\n",
    "        \n",
    "    Returns:\n",
    "        float: Land area in square miles\n",
    "    \"\"\"\n",
    "    url = f\"http://www.usa.com/{zip_code}-ny.htm\"\n",
    "    response = requests.get(url)\n",
    "    soup = BeautifulSoup(response.text, \"html.parser\")\n",
    "    \n",
    "    try:\n",
    "        land_area_text = soup.find(\"td\", text=re.compile(r\"Land Area:\")).find_next_sibling(\"td\").text\n",
    "        land_area = float(re.search(r\"([\\d.]+) sq mi\", land_area_text).group(1))\n",
    "    except Exception as e:\n",
    "        print(f\"Error fetching land area for ZIP code {zip_code}: {e}\")\n",
    "        land_area = None\n",
    "\n",
    "    # Also grab the population\n",
    "    # It looks like: <tr><td><b>Population</b></td><td><a href=\"/11235-ny-population-and-races.htm\">75,622 (2010-2014)</a>, rank <a href=\"/rank/new-york-state--total-population--zip-code-rank.htm?hl=11235&amp;hlst=NY&amp;yr=9000\">#32</a></td></tr>\n",
    "    try:\n",
    "        population_text = soup.find(\"td\", text=re.compile(r\"Population\")).find_next_sibling(\"td\").text\n",
    "        population = int(re.search(r\"([\\d,]+) \\(\", population_text).group(1).replace(\",\", \"\"))\n",
    "    except Exception as e:\n",
    "        print(f\"Error fetching population for ZIP code {zip_code}: {e}\")\n",
    "        population = None\n",
    "\n",
    "    # return both, land area and population, in a dictionary with labels\n",
    "    return {\"land_area\": land_area, \"population\": population}\n",
    "\n",
    "#  create a function that takes a list of zipcodes and returns a dictionary with the zip code as the key and the land area as the value. Make sure to handle errors and rate limit your requests to avoid getting blocked by the website.\n",
    "def get_land_areas(zip_codes: List[str]) -> dict:\n",
    "    \"\"\"Get the land areas for a list of ZIP codes.\n",
    "    \n",
    "    Args:\n",
    "        zip_codes: List of ZIP codes to lookup\n",
    "        \n",
    "    Returns:\n",
    "        dict: Dictionary with ZIP code as key and land area in square miles as value\n",
    "    \"\"\"\n",
    "    land_areas = {}\n",
    "    \n",
    "    for zip_code in zip_codes:\n",
    "        # Rate limit the requests, randomize the delay, between 0.4 and 0.6 seconds\n",
    "        time.sleep(random.uniform(0.4, 0.6))\n",
    "        land_area = get_land_area(zip_code)\n",
    "        if land_area is not None:\n",
    "            land_areas[zip_code] = land_area\n",
    "    \n",
    "    return land_areas\n",
    "\n",
    "# Test the function with a list of ZIP codes\n",
    "# Convert the following zip_codes.txt file into a list of zip codes, single space separated, it looks like this: 11426 11427 11428 11429\n",
    "zip_codes = open(\"zip_codes.txt\", \"r\").read().split()\n",
    "land_areas = get_land_areas(zip_codes)"
   ]
  },
  {
   "cell_type": "markdown",
   "metadata": {},
   "source": [
    "#### Comments on missing zip codes\n",
    "Zip code 10048: World Trade Center Grounds\n",
    "\n",
    "Zip code 11359: Fort Totten Park"
   ]
  },
  {
   "cell_type": "code",
   "execution_count": 52,
   "metadata": {},
   "outputs": [
    {
     "name": "stdout",
     "output_type": "stream",
     "text": [
      "Land areas saved to land_areas.csv\n"
     ]
    }
   ],
   "source": [
    "# Save the results into a CSV file with the columns \"ZIP Code\", \"Land Area (sq mi)\", and \"Population\"\n",
    "import csv\n",
    "\n",
    "with open(\"land_areas.csv\", \"w\", newline=\"\") as csvfile:\n",
    "    writer = csv.DictWriter(csvfile, fieldnames=[\"ZIP Code\", \"Land Area (sq mi)\", \"Population\"])\n",
    "    writer.writeheader()\n",
    "    \n",
    "    for zip_code, data in land_areas.items():\n",
    "        writer.writerow({\"ZIP Code\": zip_code, \"Land Area (sq mi)\": data[\"land_area\"], \"Population\": data[\"population\"]})\n",
    "    \n",
    "print(\"Land areas saved to land_areas.csv\")"
   ]
  }
 ],
 "metadata": {
  "kernelspec": {
   "display_name": "Python 3",
   "language": "python",
   "name": "python3"
  },
  "language_info": {
   "codemirror_mode": {
    "name": "ipython",
    "version": 3
   },
   "file_extension": ".py",
   "mimetype": "text/x-python",
   "name": "python",
   "nbconvert_exporter": "python",
   "pygments_lexer": "ipython3",
   "version": "3.10.0"
  }
 },
 "nbformat": 4,
 "nbformat_minor": 2
}
