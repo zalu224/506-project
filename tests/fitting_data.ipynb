{
 "cells": [
  {
   "cell_type": "markdown",
   "metadata": {},
   "source": [
    "# Fitting the data from Trees and Air, cleaning the data"
   ]
  },
  {
   "cell_type": "code",
   "execution_count": 10,
   "metadata": {},
   "outputs": [],
   "source": [
    "# Import data from \"data/2015_Street_Tree_Census.csv\" and \"data/Air_Quality.csv\"\n",
    "# keep them as seperate data frames, use any relevant libraries and run print the first few rows\n",
    "import pandas as pd\n",
    "\n",
    "# Import data from \"data/2015_Street_Tree_Census.csv\"\n",
    "df1 = pd.read_csv(\"./../data/2015_Street_Tree_Census.csv\")\n",
    "\n",
    "# Import data from \"data/Air_Quality.csv\"\n",
    "df2 = pd.read_csv(\"./../data/Air_Quality.csv\")"
   ]
  },
  {
   "cell_type": "code",
   "execution_count": 15,
   "metadata": {},
   "outputs": [
    {
     "name": "stdout",
     "output_type": "stream",
     "text": [
      "2015_Street_Tree_Census.csv --------------------------------------------------\n",
      "Columns in 2015_Street_Tree_Census.csv\n",
      "Index(['tree_id', 'block_id', 'created_at', 'tree_dbh', 'stump_diam',\n",
      "       'curb_loc', 'status', 'health', 'spc_latin', 'spc_common', 'steward',\n",
      "       'guards', 'sidewalk', 'user_type', 'problems', 'root_stone',\n",
      "       'root_grate', 'root_other', 'trunk_wire', 'trnk_light', 'trnk_other',\n",
      "       'brch_light', 'brch_shoe', 'brch_other', 'address', 'postcode',\n",
      "       'zip_city', 'community board', 'borocode', 'borough', 'cncldist',\n",
      "       'st_assem', 'st_senate', 'nta', 'nta_name', 'boro_ct', 'state',\n",
      "       'latitude', 'longitude', 'x_sp', 'y_sp', 'council district',\n",
      "       'census tract', 'bin', 'bbl'],\n",
      "      dtype='object')\n"
     ]
    }
   ],
   "source": [
    "# Showing first few rows of Tree Census data\n",
    "print(\"2015_Street_Tree_Census.csv\", \"-\"*50)\n",
    "# print(df1.head())\n",
    "# print list of all columns in the data frame\n",
    "print(\"Columns in 2015_Street_Tree_Census.csv\")\n",
    "print(df1.columns)"
   ]
  },
  {
   "cell_type": "code",
   "execution_count": 13,
   "metadata": {},
   "outputs": [
    {
     "name": "stdout",
     "output_type": "stream",
     "text": [
      "Air_Quality.csv --------------------------------------------------\n",
      "Columns in 2015_Street_Tree_Census.csv\n",
      "Index(['tree_id', 'block_id', 'created_at', 'tree_dbh', 'stump_diam',\n",
      "       'curb_loc', 'status', 'health', 'spc_latin', 'spc_common', 'steward',\n",
      "       'guards', 'sidewalk', 'user_type', 'problems', 'root_stone',\n",
      "       'root_grate', 'root_other', 'trunk_wire', 'trnk_light', 'trnk_other',\n",
      "       'brch_light', 'brch_shoe', 'brch_other', 'address', 'postcode',\n",
      "       'zip_city', 'community board', 'borocode', 'borough', 'cncldist',\n",
      "       'st_assem', 'st_senate', 'nta', 'nta_name', 'boro_ct', 'state',\n",
      "       'latitude', 'longitude', 'x_sp', 'y_sp', 'council district',\n",
      "       'census tract', 'bin', 'bbl'],\n",
      "      dtype='object')\n"
     ]
    }
   ],
   "source": [
    "# Showing first few rows of Air Quality data\n",
    "print(\"Air_Quality.csv\", \"-\"*50)\n",
    "df2 = pd.read_csv(\"./../data/Air_Quality.csv\")\n",
    "# print(df2.head())\n",
    "# print list of all columns in the data frame\n",
    "print(\"Columns in 2015_Street_Tree_Census.csv\")\n",
    "print(df1.columns)"
   ]
  }
 ],
 "metadata": {
  "kernelspec": {
   "display_name": "Python 3",
   "language": "python",
   "name": "python3"
  },
  "language_info": {
   "codemirror_mode": {
    "name": "ipython",
    "version": 3
   },
   "file_extension": ".py",
   "mimetype": "text/x-python",
   "name": "python",
   "nbconvert_exporter": "python",
   "pygments_lexer": "ipython3",
   "version": "3.10.0"
  }
 },
 "nbformat": 4,
 "nbformat_minor": 2
}
